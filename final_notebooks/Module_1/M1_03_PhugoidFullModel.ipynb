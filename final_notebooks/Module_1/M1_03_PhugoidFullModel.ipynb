{
 "cells": [
  {
   "cell_type": "markdown",
   "id": "3d53c0d0",
   "metadata": {},
   "source": [
    "The full system of equations discretized with Euler's method is:\n",
    "\n",
    "$$\n",
    "\\begin{align}\n",
    "v^{n+1} & = v^n + \\Delta t \\left(- g\\, \\sin\\theta^n - \\frac{C_D}{C_L} \\frac{g}{v_t^2} (v^n)^2 \\right) \\\\\n",
    "\\theta^{n+1} & = \\theta^n + \\Delta t \\left(- \\frac{g}{v^n}\\,\\cos\\theta^n + \\frac{g}{v_t^2}\\, v^n \\right) \\\\\n",
    "x^{n+1} & = x^n + \\Delta t \\, v^n \\cos\\theta^n \\\\\n",
    "y^{n+1} & = y^n + \\Delta t \\, v^n \\sin\\theta^n.\n",
    "\\end{align}\n",
    "$$"
   ]
  },
  {
   "cell_type": "markdown",
   "id": "e183b389",
   "metadata": {},
   "source": [
    "As we've learned before, the system of differential equations can also be written as a vector equation:\n",
    "\n",
    "$$\n",
    "u'(t) = f(u)\n",
    "$$\n",
    "\n",
    "where\n",
    "\n",
    "$$\n",
    "\\begin{align}\n",
    "u & = \\begin{pmatrix} v \\\\ \\theta \\\\ x \\\\ y \\end{pmatrix} & f(u) & = \\begin{pmatrix} - g\\, \\sin\\theta - \\frac{C_D}{C_L} \\frac{g}{v_t^2} v^2 \\\\ - \\frac{g}{v}\\,\\cos\\theta + \\frac{g}{v_t^2}\\, v \\\\ v\\cos\\theta \\\\ v\\sin\\theta \\end{pmatrix}\n",
    "\\end{align}\n",
    "$$\n",
    "\n",
    "It's a bit tricky to code the solution using a NumPy array holding all your independent variables. But if you do, a function for the Euler step can be written that takes any number of simultaneous equations. It simply steps in time using the same line of code:\n",
    "\n",
    "```Python\n",
    "def euler_step(u, f, dt):\n",
    "    return u + dt * f(u)\n",
    "```\n",
    "\n",
    "This function can take a NumPy array `u` with any number of components. All we need to do is create an appropriate function `f(u)` describing our system of differential equations. Notice how we are passing a _function_ as part of the arguments list to `euler_step()`. Neat!"
   ]
  },
  {
   "cell_type": "code",
   "execution_count": 2,
   "id": "b732b3d9",
   "metadata": {},
   "outputs": [],
   "source": [
    "import math #here using math operations to calculate f(u) components is easier than numpy operations\n",
    "import numpy\n",
    "from matplotlib import pyplot\n",
    "%matplotlib inline \n",
    "#to plot the plot in line with the notebook instead of default popups"
   ]
  },
  {
   "cell_type": "code",
   "execution_count": 3,
   "id": "672e48b8",
   "metadata": {},
   "outputs": [],
   "source": [
    "# Set the font family and size to use for Matplotlib figures.\n",
    "pyplot.rcParams['font.family'] = 'serif'\n",
    "pyplot.rcParams['font.size'] = 16"
   ]
  },
  {
   "cell_type": "code",
   "execution_count": 4,
   "id": "c643c76c",
   "metadata": {},
   "outputs": [],
   "source": [
    "# Set parameters.\n",
    "g = 9.81  # gravitational acceleration (m.s^{-2})\n",
    "vt = 30.0  # trim velocity (m.s)\n",
    "CD = 1.0 / 40  # drag coefficient\n",
    "CL = 1.0  # lift coefficient\n",
    "\n",
    "# Set initial conditions.\n",
    "v0 = vt  # start at the trim velocity\n",
    "theta0 = 0.0  # trajectory angle\n",
    "x0 = 0.0  # horizontal position\n",
    "y0 = 1000.0  # vertical position (altitude)"
   ]
  },
  {
   "cell_type": "code",
   "execution_count": 5,
   "id": "b9b21af5",
   "metadata": {},
   "outputs": [],
   "source": [
    "def rhs_phugoid(u, CL, CD, g, vt):\n",
    "    \"\"\"\n",
    "    Returns the right-hand side of the phugoid system of equations.\n",
    "    \n",
    "    Parametersb\n",
    "    ----------\n",
    "    u : list or numpy.ndarray\n",
    "        Solution at the previous time step\n",
    "        as a list or 1D array of four floats.\n",
    "    CL : float\n",
    "        Lift coefficient.\n",
    "    CD : float\n",
    "        Drag coefficient.\n",
    "    g : float\n",
    "        Gravitational acceleration.\n",
    "    vt : float\n",
    "        Trim velocity.\n",
    "    \n",
    "    Returns\n",
    "    -------\n",
    "    rhs : numpy.ndarray\n",
    "        The right-hand side of the system\n",
    "        as a 1D array of four floats.\n",
    "    \"\"\"\n",
    "    v, theta, x, y = u\n",
    "    rhs = numpy.array([-g * math.sin(theta) - CD / CL * g / vt**2 * v**2,\n",
    "                       -g * math.cos(theta) / v + g / vt**2 * v,\n",
    "                       v * math.cos(theta),\n",
    "                       v * math.sin(theta)])\n",
    "    return rhs"
   ]
  },
  {
   "cell_type": "code",
   "execution_count": 6,
   "id": "25c84c22",
   "metadata": {},
   "outputs": [],
   "source": [
    "def euler_step(u, f, dt, *args):\n",
    "    \n",
    "    # *args allows one to enter any number of arguments to the function instead of a defined fixed number\n",
    "    \n",
    "    \"\"\"\n",
    "    Returns the solution at the next time step using Euler's method.\n",
    "    \n",
    "    Parameters\n",
    "    ----------\n",
    "    u : numpy.ndarray\n",
    "        Solution at the previous time step\n",
    "        as a 1D array of floats.\n",
    "    f : function\n",
    "        Function to compute the right-hand side of the system.\n",
    "    dt : float\n",
    "        Time-step size.\n",
    "    args : tuple, optional\n",
    "        Positional arguments to pass to the function f.\n",
    "    \n",
    "    Returns\n",
    "    -------\n",
    "    u_new : numpy.ndarray\n",
    "        The solution at the next time step\n",
    "        as a 1D array of floats.\n",
    "    \"\"\"\n",
    "    u_new = u + dt * f(u, *args)\n",
    "    return u_new"
   ]
  },
  {
   "cell_type": "code",
   "execution_count": 7,
   "id": "143f2ed0",
   "metadata": {},
   "outputs": [],
   "source": [
    "T = 1000.0  # length of the time interval\n",
    "dt = 0.1  # time-step size\n",
    "N = int(T / dt) + 1  # number of time steps\n",
    "\n",
    "# Create array to store the solution at each time step.\n",
    "u = numpy.empty((N, 4))\n",
    "# Set the initial conditions.\n",
    "u[0] = numpy.array([v0, theta0, x0, y0])\n",
    "\n",
    "# u is a numpy array of v, theta, x, y values for all N grid points. \n",
    "\n",
    "# Time integration with Euler's method.\n",
    "for n in range(N - 1): #here N-1 because the indexing starts from 0, so total is (N-1 - 0 + 1)\n",
    "    u[n + 1] = euler_step(u[n], rhs_phugoid, dt, CL, CD, g, vt)"
   ]
  },
  {
   "cell_type": "markdown",
   "id": "c4c0d344",
   "metadata": {},
   "source": [
    "Here u has the following structure: \n",
    "\n",
    "              v 0 x y\n",
    "              | | | |  \n",
    "     u =    [ . . . .,\n",
    "              . . . .,\n",
    "              . . . .,\n",
    "              -\n",
    "              -\n",
    "              -\n",
    "              . . . . ]\n",
    "                       (N, 4)\n",
    "                       \n",
    "The number of rows in the numpy array u is N, corresponding to the values of the four variables, v, theta, x, y at all the grid points. "
   ]
  },
  {
   "cell_type": "code",
   "execution_count": 8,
   "id": "e6eb74b2",
   "metadata": {},
   "outputs": [
    {
     "name": "stdout",
     "output_type": "stream",
     "text": [
      "[0.00000000e+00 3.00000000e+00 5.99754750e+00 ... 2.99771717e+04\n",
      " 2.99801769e+04 2.99831825e+04] [1000.         1000.         1000.         ...  250.34149686  250.2540638\n",
      "  250.16708739]\n"
     ]
    }
   ],
   "source": [
    "# Get the glider's position over the time.\n",
    "\n",
    "# Fancy indexing used here\n",
    "\n",
    "x = u[:, 2] # u[row indexing, column indexing] => u[all rows, col 3], col 3 corrsponds to x values\n",
    "y = u[:, 3] # u[row indexing, column indexing] => u[all rows, col 4], col 4 corrsponds to y values\n",
    "print(x, y)"
   ]
  },
  {
   "cell_type": "code",
   "execution_count": 9,
   "id": "60da6162",
   "metadata": {},
   "outputs": [
    {
     "data": {
      "image/png": "[encoded data removed]",
      "text/plain": [
       "<Figure size 1080x1080 with 1 Axes>"
      ]
     },
     "metadata": {
      "needs_background": "light"
     },
     "output_type": "display_data"
    }
   ],
   "source": [
    "# Plot the path of the glider.\n",
    "pyplot.figure(figsize=(15.0, 15.0))\n",
    "pyplot.title('Path of the glider (flight time = {})'.format(T))\n",
    "pyplot.xlabel('x')\n",
    "pyplot.ylabel('y')\n",
    "pyplot.grid()\n",
    "pyplot.plot(x, y, color='C0', linestyle='-', linewidth=2);"
   ]
  },
  {
   "cell_type": "markdown",
   "id": "c064e611",
   "metadata": {},
   "source": [
    "## Grid Convergence\n",
    "\n",
    "As this problem has no exact solution, the convergence is determined by the relative error between the output of the finest grid and the coarsest grid. "
   ]
  },
  {
   "cell_type": "code",
   "execution_count": 10,
   "id": "31b5fbaa",
   "metadata": {},
   "outputs": [],
   "source": [
    "# Set the list of time-step sizes.\n",
    "dt_values = [0.1, 0.05, 0.01, 0.005, 0.001]\n",
    "\n",
    "# Create an empty list that will contain the solution of each grid.\n",
    "u_values = []\n",
    "\n",
    "for dt in dt_values:\n",
    "    N = int(T / dt) + 1  # number of time-steps\n",
    "    # Create array to store the solution at each time step.\n",
    "    u = numpy.empty((N, 4))\n",
    "    # Set the initial conditions.\n",
    "    u[0] = numpy.array([v0, theta0, x0, y0])\n",
    "    # Temporal integration using Euler's method.\n",
    "    for n in range(N - 1):\n",
    "        u[n + 1] = euler_step(u[n], rhs_phugoid, dt, CL, CD, g, vt)\n",
    "    # Store the solution for the present time-step size\n",
    "    u_values.append(u)"
   ]
  },
  {
   "cell_type": "code",
   "execution_count": 11,
   "id": "87a52461",
   "metadata": {},
   "outputs": [],
   "source": [
    "def l1_diff(u_coarse, u_fine, dt):\n",
    "    \"\"\"\n",
    "    Returns the difference in the L1-norm between the solution on\n",
    "    a coarse grid and the solution on a fine grid.\n",
    "    \n",
    "    Parameters\n",
    "    ----------\n",
    "    u_coarse : numpy.ndarray\n",
    "        Solution on the coarse grid as an array of floats.\n",
    "    u_fine : numpy.ndarray\n",
    "        Solution on the fine grid as an array of floats.\n",
    "    dt : float\n",
    "        Time-step size.\n",
    "    \n",
    "    Returns\n",
    "    -------\n",
    "    diff : float\n",
    "        The difference between the two solutions in the L1-norm\n",
    "        scaled by the time-step size.\n",
    "    \"\"\"\n",
    "    N_coarse = len(u_coarse)\n",
    "    N_fine = len(u_fine)\n",
    "    ratio = math.ceil(N_fine / N_coarse) \n",
    "    #function .ceil will round the ratio to the immediate upper value\n",
    "    # eg 1001/101 = 9.9..>> .ceil = 10\n",
    "    diff = dt * numpy.sum(numpy.abs(u_coarse - u_fine[::ratio]))\n",
    "    return diff"
   ]
  },
  {
   "cell_type": "code",
   "execution_count": 12,
   "id": "138232e0",
   "metadata": {},
   "outputs": [
    {
     "name": "stdout",
     "output_type": "stream",
     "text": [
      "[11 12 13 14]\n",
      "[[0.]\n",
      " [1.]\n",
      " [2.]\n",
      " [3.]\n",
      " [0.]] \n",
      "\n",
      "[[11.]\n",
      " [12.]\n",
      " [13.]\n",
      " [14.]\n",
      " [ 0.]]\n"
     ]
    }
   ],
   "source": [
    "A = numpy.array([11 , 12, 13, 14, 15])\n",
    "temp_i = numpy.zeros(5).reshape(5,1)\n",
    "temp_dt = numpy.zeros(5).reshape(5,1)\n",
    "print(A[:-1]) \n",
    "#this indexing indicates= start from 0th index till the (n-1)th index. Because stop is till the last value (-1 th index), so it will consider all values from 0th index to the (n-1)th index, includuing (n-1)th value\n",
    "for i, dt in enumerate(A[:-1]):\n",
    "    temp_i[i] = i\n",
    "    temp_dt[i] = dt\n",
    "    \n",
    "print(temp_i, \"\\n\")\n",
    "print(temp_dt)\n",
    "    "
   ]
  },
  {
   "cell_type": "code",
   "execution_count": 13,
   "id": "53de6c2e",
   "metadata": {},
   "outputs": [
    {
     "name": "stdout",
     "output_type": "stream",
     "text": [
      "[11 12 13 14]\n",
      "[[0.]\n",
      " [1.]\n",
      " [2.]\n",
      " [3.]\n",
      " [4.]] \n",
      "\n",
      "[[11.]\n",
      " [12.]\n",
      " [13.]\n",
      " [14.]\n",
      " [15.]]\n"
     ]
    }
   ],
   "source": [
    "A1 = numpy.array([11 , 12, 13, 14, 15])\n",
    "temp_i1 = numpy.zeros(5).reshape(5,1)\n",
    "temp_dt1 = numpy.zeros(5).reshape(5,1)\n",
    "print(A1[:-1]) \n",
    "#this indexing indicates= start from 0th index till the (n-1)th index. Because stop is till the last value (-1 th index), so it will consider all values from 0th index to the (n-1)th index, excluding (n-1)th value\n",
    "for i, dt in enumerate(A1):\n",
    "    temp_i1[i] = i\n",
    "    temp_dt1[i] = dt\n",
    "    \n",
    "print(temp_i1, \"\\n\")\n",
    "print(temp_dt1)"
   ]
  },
  {
   "cell_type": "code",
   "execution_count": 14,
   "id": "32537613",
   "metadata": {},
   "outputs": [
    {
     "name": "stdout",
     "output_type": "stream",
     "text": [
      "[892.7736856530105, 142.8385431367841, 17.08436073744036, 7.277358690123211]\n"
     ]
    }
   ],
   "source": [
    "# Create an empty list to store the difference in the solution\n",
    "# between two consecutive grids.\n",
    "diff_values = []\n",
    "# dt_values = [0.1, 0.05, 0.01, 0.005, 0.001] for reference\n",
    "\n",
    "\n",
    "for i, dt in enumerate(dt_values[:-1]):\n",
    "    #print(str(u_values[i][:, 2]))\n",
    "    # u_values[i][:, 2] = all the x vlaues for a partiuclar numerical solution corresponding to a dt value\n",
    "    # u_values[-1][:, 2] = all the x vlaues for a partiuclar numerical solution corresponding to the last dt value, which is most fine grid\n",
    "    diff = l1_diff(u_values[i][:, 2], u_values[-1][:, 2], dt)\n",
    "    diff_values.append(diff)\n",
    "print(diff_values)"
   ]
  },
  {
   "cell_type": "markdown",
   "id": "b9bb053d",
   "metadata": {},
   "source": [
    "the above for loop calculates L1 error between all the u_values[i] (except for the last one) and the u_values for the last dt_value, which is the finest grid, hence the dt_values[:, -1], as we are comparing with the u_values corresponding to the last dt_value, whcih is the finest grid."
   ]
  },
  {
   "cell_type": "code",
   "execution_count": 15,
   "id": "ed490438",
   "metadata": {
    "scrolled": true
   },
   "outputs": [
    {
     "data": {
      "image/png": "[encoded data removed]",
      "text/plain": [
       "<Figure size 432x432 with 1 Axes>"
      ]
     },
     "metadata": {
      "needs_background": "light"
     },
     "output_type": "display_data"
    }
   ],
   "source": [
    "# Plot the difference versus the time-step size.\n",
    "pyplot.figure(figsize=(6.0, 6.0))\n",
    "pyplot.title('L1-norm difference vs. time-step size')  # set the title\n",
    "pyplot.xlabel('$\\Delta t$')  # set the x-axis label\n",
    "pyplot.ylabel('Difference')  # set the y-axis label\n",
    "pyplot.grid()\n",
    "pyplot.loglog(dt_values[:-1], diff_values,\n",
    "              color='C0', linestyle='--', marker='o')  # log-log plot\n",
    "pyplot.axis('equal');  # make axes scale equally"
   ]
  },
  {
   "cell_type": "markdown",
   "id": "fce0b96b",
   "metadata": {},
   "source": [
    "### Order of Convergence\n",
    "\n",
    "The order of convergence is the rate at which the numerical solution approaches the exact one as the mesh is refined. Considering that we're not comparing with an exact solution, we use 3 grid resolutions that are refined at a constant ratio $r$ to find the *observed order of convergence* ($p$), which is given by:\n",
    "\n",
    "$$\n",
    "\\begin{equation}\n",
    "p = \\frac{\\log \\left(\\frac{f_3-f_2}{f_2-f_1} \\right) }{\\log(r)}\n",
    "\\end{equation}\n",
    "$$\n",
    "\n",
    "where $f_1$ is the finest mesh solution, and $f_3$ the coarsest. "
   ]
  },
  {
   "cell_type": "code",
   "execution_count": 16,
   "id": "f2f73bf7",
   "metadata": {},
   "outputs": [
    {
     "name": "stdout",
     "output_type": "stream",
     "text": [
      "[0.001, 0.002, 0.004]\n",
      "Observed order of convergence: p = 1.035\n"
     ]
    }
   ],
   "source": [
    "r = 2  # refinement ratio for the time-step size\n",
    "h = 0.001  # base grid size\n",
    "\n",
    "#defining the dt_values list for h, rh, r^2h\n",
    "dt_values2 = [h, r * h, r**2 * h]\n",
    "print(dt_values2)\n",
    "#initializing u_values2\n",
    "u_values2 = []\n",
    "\n",
    "for dt in dt_values2:\n",
    "    N = int(T / dt) + 1  # number of time steps\n",
    "    # Create array to store the solution at each time step.\n",
    "    u = numpy.empty((N, 4))\n",
    "    # Set initial conditions.\n",
    "    u[0] = numpy.array([v0, theta0, x0, y0])\n",
    "    # Time integration using Euler's method.\n",
    "    for n in range(N - 1): \n",
    "    #here N-1 because the indexing starts from 0, so total is (N-1 - 0 + 1)\n",
    "        u[n + 1] = euler_step(u[n], rhs_phugoid, dt, CL, CD, g, vt)\n",
    "    # Store the solution.\n",
    "    u_values2.append(u)\n",
    "\n",
    "# Calculate f2 - f1.\n",
    "f2_f1 = l1_diff(u_values2[1][:, 2], u_values2[0][:, 2], dt_values2[1])\n",
    "# Calculate f3 - f2.\n",
    "f3_f2 = l1_diff(u_values2[2][:, 2], u_values2[1][:, 2], dt_values2[2])\n",
    "# Calculate the observed order of convergence.\n",
    "p = math.log(f3_f2 / f2_f1) / math.log(r)\n",
    "print('Observed order of convergence: p = {:.3f}'.format(p))"
   ]
  },
  {
   "cell_type": "markdown",
   "id": "50f12bdf",
   "metadata": {},
   "source": [
    "See how the observed order of convergence is close to 1? This means that the rate at which the grid differences decrease match the mesh-refinement ratio. We say that Euler's method is of *first order*, and this result is a consequence of that."
   ]
  }
 ],
 "metadata": {
  "kernelspec": {
   "display_name": "Python 3",
   "language": "python",
   "name": "python3"
  },
  "language_info": {
   "codemirror_mode": {
    "name": "ipython",
    "version": 3
   },
   "file_extension": ".py",
   "mimetype": "text/x-python",
   "name": "python",
   "nbconvert_exporter": "python",
   "pygments_lexer": "ipython3",
   "version": "3.8.8"
  }
 },
 "nbformat": 4,
 "nbformat_minor": 5
}
