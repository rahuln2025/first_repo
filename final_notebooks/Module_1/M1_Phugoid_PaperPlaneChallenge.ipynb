{
 "cells": [
  {
   "cell_type": "code",
   "execution_count": 1,
   "id": "afefd91f",
   "metadata": {},
   "outputs": [],
   "source": [
    "import math\n",
    "import numpy\n",
    "from matplotlib import pyplot\n",
    "%matplotlib inline"
   ]
  },
  {
   "cell_type": "code",
   "execution_count": 2,
   "id": "b3989fd6",
   "metadata": {},
   "outputs": [],
   "source": [
    "# Set the font family and size to use for Matplotlib figures.\n",
    "pyplot.rcParams['font.family'] = 'serif'\n",
    "pyplot.rcParams['font.size'] = 16"
   ]
  },
  {
   "cell_type": "code",
   "execution_count": 17,
   "id": "bcca811f",
   "metadata": {},
   "outputs": [],
   "source": [
    "# Set parameters.\n",
    "g = 9.81  # gravitational acceleration (m.s^{-2})\n",
    "vt = 4.9  # trim velocity (m.s)\n",
    "CD = 1.0 / 5.0  # drag coefficient\n",
    "CL = 1.0  # lift coefficient\n",
    "\n",
    "# Set initial conditions.\n",
    "v0 = 6.5  # start at the trim velocity\n",
    "theta0 = -0.1 # trajectory angle\n",
    "x0 = 0.0  # horizontal position\n",
    "y0 = 2.0  # vertical position (altitude)"
   ]
  },
  {
   "cell_type": "code",
   "execution_count": 4,
   "id": "5e98b95e",
   "metadata": {},
   "outputs": [],
   "source": [
    "def rhs_phugoid(u, CL, CD, g, vt):\n",
    "    \"\"\"\n",
    "    Returns the right-hand side of the phugoid system of equations.\n",
    "    \n",
    "    Parameters\n",
    "    ----------\n",
    "    u : list or numpy.ndarray\n",
    "        Solution at the previous time step\n",
    "        as a list or 1D array of four floats.\n",
    "    CL : float\n",
    "        Lift coefficient.\n",
    "    CD : float\n",
    "        Drag coefficient.\n",
    "    g : float\n",
    "        Gravitational acceleration.\n",
    "    vt : float\n",
    "        Trim velocity.\n",
    "    \n",
    "    Returns\n",
    "    -------\n",
    "    rhs : numpy.ndarray\n",
    "        The right-hand side of the system\n",
    "        as a 1D array of four floats.\n",
    "    \"\"\"\n",
    "    v, theta, x, y = u\n",
    "    rhs = numpy.array([-g * math.sin(theta) - CD / CL * g / vt**2 * v**2,\n",
    "                       -g * math.cos(theta) / v + g / vt**2 * v,\n",
    "                       v * math.cos(theta),\n",
    "                       v * math.sin(theta)])\n",
    "    return rhs\n"
   ]
  },
  {
   "cell_type": "code",
   "execution_count": 5,
   "id": "7cad134d",
   "metadata": {},
   "outputs": [],
   "source": [
    "def rk2_step(u, f, dt, *args):\n",
    "    \"\"\"\n",
    "    Returns the solution at the next time step using 2nd-order\n",
    "    Runge-Kutta method.\n",
    "    \n",
    "    Parameters\n",
    "    ----------\n",
    "    u : numpy.ndarray\n",
    "        Solution at the previous time step\n",
    "        as a 1D array of floats.\n",
    "    f : function\n",
    "        Function to compute the right-hand side of the system.\n",
    "    dt : float\n",
    "        Time-step size.\n",
    "    args : tuple, optional\n",
    "        Positional arguments to pass to the function f.\n",
    "    \n",
    "    Returns\n",
    "    -------\n",
    "    u_new : numpy.ndarray\n",
    "        The solution at the next time step\n",
    "        as a 1D array of floats.\n",
    "    \"\"\"\n",
    "    u_star = u + 0.5 * dt * f(u, *args)\n",
    "    u_new = u + dt * f(u_star, *args)\n",
    "    return u_new\n"
   ]
  },
  {
   "cell_type": "code",
   "execution_count": 6,
   "id": "4c90fccf",
   "metadata": {},
   "outputs": [],
   "source": [
    "def rk2_output(T, dt):\n",
    "    \n",
    "    N = int(T/dt) + 1\n",
    "    \n",
    "# Create array to store solution at each time step\n",
    "    u_rk2 = numpy.empty((N,4))\n",
    "\n",
    "# Set initial conditions\n",
    "    u_rk2[0] = numpy.array([v0, theta0, x0, y0])\n",
    "\n",
    "# Time integration with rk2 method\n",
    "\n",
    "    for n in range(N-1):\n",
    "        u_rk2[n+1] = rk2_step(u_rk2[n], rhs_phugoid, dt, CL, CD, g, vt)\n",
    "    \n",
    "    return u_rk2"
   ]
  },
  {
   "cell_type": "code",
   "execution_count": 15,
   "id": "805399f2",
   "metadata": {},
   "outputs": [],
   "source": [
    "def plot(T, dt):\n",
    "    \n",
    "    idx_negative_rk2 = numpy.where(rk2_output(T, dt)[:,3] < 0.0)[0]\n",
    "    \n",
    "    if len(idx_negative_rk2) == 0:\n",
    "        idx_ground_rk2 = N-1\n",
    "        print('rk2, not landed yet')\n",
    "    else: \n",
    "        idx_ground_rk2 = idx_negative_rk2[0]\n",
    "        \n",
    "    x_rk2 = rk2_output(T, dt)[:,2]\n",
    "    y_rk2 = rk2_output(T, dt)[:,3]\n",
    "    \n",
    "    \n",
    "    #Plot the glider's path for rk2 method.\n",
    "    pyplot.figure(figsize=(9.0, 6.0))\n",
    "    pyplot.subplot(121)\n",
    "    pyplot.grid()\n",
    "    pyplot.xlabel('x')\n",
    "    pyplot.ylabel('y') \n",
    "    pyplot.plot(x_rk2[:idx_ground_rk2], y_rk2[:idx_ground_rk2], label='RK2') \n",
    "    print('Distance traveled, rk2, dt_value', dt,':',' {:.3f}'.format(x_rk2[idx_ground_rk2 - 1]))\n",
    "    print('Time taken, rk2, dt_value', dt,':', '{:.3f}'.format(dt*(idx_ground_rk2 -1)))"
   ]
  },
  {
   "cell_type": "code",
   "execution_count": 18,
   "id": "0a65e5f9",
   "metadata": {},
   "outputs": [
    {
     "name": "stdout",
     "output_type": "stream",
     "text": [
      "Distance traveled, rk2, dt_value 0.001 :  14.530\n",
      "Time taken, rk2, dt_value 0.001 : 3.073\n"
     ]
    },
    {
     "data": {
      "image/png": "[encoded data removed]",
      "text/plain": [
       "<Figure size 648x432 with 1 Axes>"
      ]
     },
     "metadata": {
      "needs_background": "light"
     },
     "output_type": "display_data"
    }
   ],
   "source": [
    "plot(23.0, 0.001)"
   ]
  }
 ],
 "metadata": {
  "kernelspec": {
   "display_name": "Python 3",
   "language": "python",
   "name": "python3"
  },
  "language_info": {
   "codemirror_mode": {
    "name": "ipython",
    "version": 3
   },
   "file_extension": ".py",
   "mimetype": "text/x-python",
   "name": "python",
   "nbconvert_exporter": "python",
   "pygments_lexer": "ipython3",
   "version": "3.8.8"
  }
 },
 "nbformat": 4,
 "nbformat_minor": 5
}
