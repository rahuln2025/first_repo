{
 "cells": [
  {
   "cell_type": "markdown",
   "id": "b83f1fe2",
   "metadata": {},
   "source": [
    "Laplace equation with following boundary conditions: \n",
    "\n",
    "$$\n",
    "\\begin{equation}\n",
    "  \\begin{gathered}\n",
    "p=0 \\text{ at } x=0\\\\\n",
    "\\frac{\\partial p}{\\partial x} = 0 \\text{ at } x = L_x\\\\\n",
    "p = 0 \\text{ at }y = 0 \\\\\n",
    "p = \\sin \\left(  \\frac{\\frac{3}{2}\\pi x}{L_x} \\right) \\text{ at } y = L_y\n",
    "  \\end{gathered}\n",
    "\\end{equation}\n",
    "$$\n"
   ]
  },
  {
   "cell_type": "code",
   "execution_count": 1,
   "id": "018ec888",
   "metadata": {},
   "outputs": [],
   "source": [
    "import numpy\n",
    "from matplotlib import pyplot\n",
    "%matplotlib inline"
   ]
  },
  {
   "cell_type": "code",
   "execution_count": 2,
   "id": "6288669c",
   "metadata": {},
   "outputs": [],
   "source": [
    "# Set the font family and size to use for Matplotlib figures.\n",
    "pyplot.rcParams['font.family'] = 'serif'\n",
    "pyplot.rcParams['font.size'] = 16"
   ]
  },
  {
   "cell_type": "code",
   "execution_count": 3,
   "id": "f6672d78",
   "metadata": {},
   "outputs": [],
   "source": [
    "#function of 3D plot\n",
    "#function of 3D plot\n",
    "def plot_3d(x, y, p, label='$z$', elev=30.0, azim=45.0):\n",
    "    \"\"\"\n",
    "    Creates a Matplotlib figure with a 3D surface plot\n",
    "    of the scalar field p.\n",
    "\n",
    "    Parameters\n",
    "    ----------\n",
    "    x : numpy.ndarray\n",
    "        Gridline locations in the x direction as a 1D array of floats.\n",
    "    y : numpy.ndarray\n",
    "        Gridline locations in the y direction as a 1D array of floats.\n",
    "    p : numpy.ndarray\n",
    "        Scalar field to plot as a 2D array of floats.\n",
    "    label : string, optional\n",
    "        Axis label to use in the third direction;\n",
    "        default: 'z'.\n",
    "    elev : float, optional\n",
    "        Elevation angle in the z plane;\n",
    "        default: 30.0.\n",
    "    azim : float, optional\n",
    "        Azimuth angle in the x,y plane;\n",
    "        default: 45.0.\n",
    "    \"\"\"\n",
    "    fig = pyplot.figure(figsize=(8.0, 6.0))\n",
    "    ax = mplot3d.Axes3D(fig)\n",
    "    fig.add_axes(ax)\n",
    "    ax.set_xlabel('$x$')\n",
    "    ax.set_ylabel('$y$')\n",
    "    ax.set_zlabel(label)\n",
    "    X, Y = numpy.meshgrid(x, y)\n",
    "    ax.plot_surface(X, Y, p, cmap=cm.viridis)\n",
    "    ax.set_xlim(x[0], x[-1])\n",
    "    ax.set_ylim(y[0], y[-1])\n",
    "    ax.view_init(elev=elev, azim=azim)"
   ]
  },
  {
   "cell_type": "code",
   "execution_count": 4,
   "id": "35261373",
   "metadata": {},
   "outputs": [],
   "source": [
    "def laplace_solution(x, y, Lx, Ly):\n",
    "    \"\"\"\n",
    "    Computes and returns the analytical solution of the Laplace equation\n",
    "    on a given two-dimensional Cartesian grid.\n",
    "\n",
    "    Parameters\n",
    "    ----------\n",
    "    x : numpy.ndarray\n",
    "        The gridline locations in the x direction\n",
    "        as a 1D array of floats.\n",
    "    y : numpy.ndarray\n",
    "        The gridline locations in the y direction\n",
    "        as a 1D array of floats.\n",
    "    Lx : float\n",
    "        Length of the domain in the x direction.\n",
    "    Ly : float\n",
    "        Length of the domain in the y direction.\n",
    "\n",
    "    Returns\n",
    "    -------\n",
    "    p : numpy.ndarray\n",
    "        The analytical solution as a 2D array of floats.\n",
    "    \"\"\"\n",
    "    X, Y = numpy.meshgrid(x, y) #meshgrid allows to plot on the whole 2D space\n",
    "    p = (numpy.sinh(1.5 * numpy.pi * Y / Ly) /\n",
    "         numpy.sinh(1.5 * numpy.pi * Ly / Lx) *\n",
    "         numpy.sin(1.5 * numpy.pi * X / Lx))\n",
    "    return p"
   ]
  },
  {
   "cell_type": "code",
   "execution_count": 5,
   "id": "5abfb7de",
   "metadata": {},
   "outputs": [],
   "source": [
    "def l2_norm(p, p_ref):\n",
    "    \"\"\"\n",
    "    Computes and returns the relative L2-norm of the difference\n",
    "    between a solution p and a reference solution p_ref.\n",
    "\n",
    "    Parameters\n",
    "    ----------\n",
    "    p : numpy.ndarray\n",
    "        The solution as an array of floats.\n",
    "    p_ref : numpy.ndarray\n",
    "        The reference solution as an array of floats.\n",
    "\n",
    "    Returns\n",
    "    -------\n",
    "    diff : float\n",
    "        The relative L2-norm of the difference.\n",
    "    \"\"\"\n",
    "    l2_diff = (numpy.sqrt(numpy.sum((p - p_ref)**2)) /\n",
    "               numpy.sqrt(numpy.sum(p_ref**2)))\n",
    "    return l2_diff"
   ]
  },
  {
   "cell_type": "code",
   "execution_count": 6,
   "id": "a3706b89",
   "metadata": {},
   "outputs": [],
   "source": [
    "#set parameters\n",
    "nx = 128\n",
    "ny = 128\n",
    "Lx = 5.0\n",
    "Ly = 5.0\n",
    "dx = Lx / (nx - 1)\n",
    "dy = Ly / (ny - 1)\n",
    "\n",
    "x = numpy.linspace(0.0, Lx, num = nx)\n",
    "y = numpy.linspace(0.0, Ly, num = ny)\n",
    "\n",
    "#set initial conditions\n",
    "p0 = numpy.zeros((ny, nx))\n",
    "p0[-1, :] = numpy.sin((1.5*numpy.pi*x) / Lx)"
   ]
  },
  {
   "cell_type": "code",
   "execution_count": 7,
   "id": "28849f33",
   "metadata": {},
   "outputs": [],
   "source": [
    "def laplace_2d_jacobi_numpy(p0, maxiter = 20000, rtol = 1e-6):\n",
    "    \n",
    "    p = p0.copy()\n",
    "    diff = rtol + 1.0\n",
    "    ite = 0\n",
    "    conv = []\n",
    "    \n",
    "    while diff>rtol and ite<maxiter:\n",
    "        pn = p.copy()\n",
    "        p[1:-1, 1:-1] = 0.25 * (pn[1:-1, :-2] + pn[1:-1, 2:] +\n",
    "                                pn[:-2, 1:-1] + pn[2:, 1:-1])\n",
    "        \n",
    "        # Apply 2nd-order Neumann condition (zero-gradient)\n",
    "        # at the right boundary.\n",
    "        p[1:-1, -1] = 0.25 * (2.0 * pn[1:-1, -2] +\n",
    "                              pn[2:, -1] + pn[:-2, -1])\n",
    "        # Compute the relative L2-norm of the difference.\n",
    "        diff = l2_norm(p, pn)\n",
    "        ite += 1\n",
    "    return p, ite, diff"
   ]
  },
  {
   "cell_type": "code",
   "execution_count": 8,
   "id": "9c7f8b8c",
   "metadata": {},
   "outputs": [],
   "source": [
    "import time"
   ]
  },
  {
   "cell_type": "code",
   "execution_count": 9,
   "id": "9454bb01",
   "metadata": {},
   "outputs": [
    {
     "name": "stdout",
     "output_type": "stream",
     "text": [
      "Jacobi relaxation: 19993 iterationsto reach a relative difference of 9.998616841218672e-09\n",
      "4.542097568511963\n"
     ]
    }
   ],
   "source": [
    "tic = time.time()\n",
    "p, ites, diff = laplace_2d_jacobi_numpy(p0, maxiter = 20000, rtol = 1e-8)\n",
    "print('Jacobi relaxation: {} iterations'.format(ites) +\n",
    "     'to reach a relative difference of {}'.format(diff))\n",
    "toc = time.time()\n",
    "print(toc - tic)"
   ]
  },
  {
   "cell_type": "markdown",
   "id": "eb00dd05",
   "metadata": {},
   "source": [
    "Conducted on 2021 Dell G15 5155, powered by 3.3 GHz AMD Ryzen 7 5800."
   ]
  },
  {
   "cell_type": "code",
   "execution_count": 10,
   "id": "0bde198c",
   "metadata": {},
   "outputs": [
    {
     "data": {
      "text/plain": [
       "6.173551335287356e-05"
      ]
     },
     "execution_count": 10,
     "metadata": {},
     "output_type": "execute_result"
    }
   ],
   "source": [
    "#Checking error with analytical solution\n",
    "p_exact = laplace_solution(x, y, Lx, Ly)\n",
    "\n",
    "l2_norm(p, p_exact)"
   ]
  },
  {
   "cell_type": "markdown",
   "id": "3c451541",
   "metadata": {},
   "source": [
    "Gauss Siedel:\n",
    "\n",
    "$$\n",
    "\\begin{equation}\n",
    "p^{k+1}_{i,j} = \\frac{1}{4} \\left(p^{k+1}_{i,j-1} + p^k_{i,j+1} + p^{k+1}_{i-1,j} + p^k_{i+1,j} \\right)\n",
    "\\end{equation}\n",
    "$$"
   ]
  },
  {
   "cell_type": "code",
   "execution_count": 11,
   "id": "d1f159d4",
   "metadata": {},
   "outputs": [],
   "source": [
    "def laplace_2d_gauss_seidel1(p0, maxiter = 20000, rtol = 1e-6):\n",
    "    \n",
    "    p = p0.copy()\n",
    "    diff = rtol + 1.0\n",
    "    nx, ny = p0.shape\n",
    "    ite = 0\n",
    "    while diff>rtol and ite<maxiter:\n",
    "        pn = p.copy()\n",
    "        for j in range(1, ny-1):\n",
    "            for i in range(1, nx-1):\n",
    "                p[j, i] = 0.25*(p[j-1, i] + p[j+1, i] + p[j, i-1] + p[j, i+1])\n",
    "                \n",
    "        for j in range(1, ny-1):\n",
    "            p[j, -1] = 0.25*(p[j-1, -1] + p[j+1, -1] + 2.0*p[j, -2])\n",
    "            \n",
    "        diff = l2_norm(p, pn)\n",
    "        ite += 1\n",
    "        \n",
    "    return p, ite"
   ]
  },
  {
   "cell_type": "code",
   "execution_count": null,
   "id": "b49d0a58",
   "metadata": {},
   "outputs": [],
   "source": [
    "%%timeit\n",
    "laplace_2d_gauss_seidel1(p0, maxiter = 20000, rtol = 1e-6)"
   ]
  },
  {
   "cell_type": "code",
   "execution_count": null,
   "id": "c098a6bc",
   "metadata": {},
   "outputs": [],
   "source": [
    "import numba\n",
    "from numba import jit"
   ]
  },
  {
   "cell_type": "code",
   "execution_count": null,
   "id": "f9780ef5",
   "metadata": {},
   "outputs": [],
   "source": [
    "@jit(nopython=True)\n",
    "def laplace_2d_jacobi(p0, maxiter=20000, rtol=1e-6):\n",
    "    \"\"\"\n",
    "    \n",
    "    Parameters\n",
    "    ----------\n",
    "    p0 : numpy.ndarray\n",
    "        The initial solution as a 2D array of floats.\n",
    "    maxiter : integer, optional\n",
    "        Maximum number of iterations to perform;\n",
    "        default: 20000.\n",
    "    rtol : float, optional\n",
    "        Relative tolerance for convergence;\n",
    "        default: 1e-6.\n",
    "    \n",
    "    Returns\n",
    "    -------\n",
    "    p : numpy.ndarray\n",
    "        The solution after relaxation as a 2D array of floats.\n",
    "    ite : integer\n",
    "        The number of iterations performed.\n",
    "    conv : list\n",
    "        The convergence history as a list of floats.\n",
    "    \"\"\"\n",
    "    ny, nx = p0.shape\n",
    "    p = p0.copy()\n",
    "    conv = []  # convergence history\n",
    "    diff = rtol + 1.0  # initial difference\n",
    "    ite = 0  # iteration index\n",
    "    while diff > rtol and ite < maxiter:\n",
    "        pn = p.copy()\n",
    "        # Update the solution at interior points.\n",
    "        for j in range(1, ny - 1):\n",
    "            for i in range(1, nx - 1):\n",
    "                p[j, i] = 0.25 * (pn[j, i - 1] + pn[j, i + 1] +\n",
    "                                  pn[j - 1, i] + pn[j + 1, i])\n",
    "        # Apply 2nd-order Neumann condition (zero-gradient)\n",
    "        # at the right boundary.\n",
    "        for j in range(1, ny - 1):\n",
    "            p[j, -1] = 0.25 * (2.0 * pn[j, -2] +\n",
    "                               pn[j - 1, -1] + pn[j + 1, -1])\n",
    "        # Compute the relative L2-norm of the difference.\n",
    "        diff = numpy.sqrt(numpy.sum((p - pn)**2) / numpy.sum(pn**2))\n",
    "        conv.append(diff)\n",
    "        ite += 1\n",
    "    return p, ite, conv"
   ]
  },
  {
   "cell_type": "markdown",
   "id": "21329c24",
   "metadata": {},
   "source": [
    "#### diff = l2_norm(p, pn) doesn't work with @jit numba, hence the whole computation is written"
   ]
  },
  {
   "cell_type": "code",
   "execution_count": null,
   "id": "71181d05",
   "metadata": {
    "scrolled": true
   },
   "outputs": [],
   "source": [
    "# Compute the solution using Jacobi relaxation method.\n",
    "p, ites, conv_jacobi = laplace_2d_jacobi(p0,\n",
    "                                         maxiter=20000, rtol=1e-8)\n",
    "print('Jacobi relaxation: {} iterations '.format(ites) +\n",
    "      'to reach a relative difference of {}'.format(conv_jacobi[-1]))"
   ]
  },
  {
   "cell_type": "code",
   "execution_count": null,
   "id": "a713274f",
   "metadata": {},
   "outputs": [],
   "source": [
    "%%timeit\n",
    "laplace_2d_jacobi(p0, maxiter=20000, rtol=1e-8)"
   ]
  },
  {
   "cell_type": "markdown",
   "id": "ddd377ca",
   "metadata": {},
   "source": [
    "The for loop based jacobi function with numba jit runs faster than numpy based jacobi function. Although the difference is not to huge. "
   ]
  },
  {
   "cell_type": "code",
   "execution_count": null,
   "id": "fd114cec",
   "metadata": {},
   "outputs": [],
   "source": [
    "@jit(nopython=True)\n",
    "def laplace_2d_gauss_seidel2(p0, maxiter = 20000, rtol = 1e-6):\n",
    "    \n",
    "    p = p0.copy()\n",
    "    diff = rtol + 1.0\n",
    "    nx, ny = p0.shape\n",
    "    ite = 0\n",
    "    conv = []\n",
    "    while diff>rtol and ite<maxiter:\n",
    "        pn = p.copy()\n",
    "        for j in range(1, ny-1):\n",
    "            for i in range(1, nx-1):\n",
    "                p[j, i] = 0.25*(p[j-1, i] + p[j+1, i] + p[j, i-1] + p[j, i+1])\n",
    "                \n",
    "        for j in range(1, ny-1):\n",
    "            p[j, -1] = 0.25*(p[j-1, -1] + p[j+1, -1] + 2.0*p[j, -2])\n",
    "            \n",
    "        diff = numpy.sqrt(numpy.sum((p - pn)**2) / numpy.sum(pn**2))\n",
    "        ite += 1\n",
    "        conv.append(diff)\n",
    "    return p, ite, conv"
   ]
  },
  {
   "cell_type": "code",
   "execution_count": null,
   "id": "fe736d35",
   "metadata": {},
   "outputs": [],
   "source": [
    "# Compute the solution using Gauss-Seidel relaxation method.\n",
    "tic = time.time()\n",
    "p, ites, conv_gs = laplace_2d_gauss_seidel2(p0,\n",
    "                                           maxiter=20000, rtol=1e-8)\n",
    "toc = time.time()\n",
    "print('Gauss-Seidel relaxation: {} iterations '.format(ites) +\n",
    "      'to reach a relative difference of {}'.format(conv_gs[-1]))\n",
    "print(toc - tic)"
   ]
  },
  {
   "cell_type": "markdown",
   "id": "04938ecd",
   "metadata": {},
   "source": [
    "## Successive Over-Relaxation (SOR)\n",
    "\n",
    "$$\n",
    "\\begin{equation}\n",
    "p^{k+1}_{i,j} = (1 - \\omega)p^k_{i,j} + \\frac{\\omega}{4} \\left(p^{k+1}_{i,j-1} + p^k_{i,j+1} + p^{k+1}_{i-1,j} + p^k_{i+1,j} \\right)\n",
    "\\end{equation}\n",
    "$$\n",
    "\n",
    "SOR iterations are only stable for $0 < \\omega < 2$. Note that for $\\omega = 1$, SOR reduces to the Gauss-Seidel method.\n",
    "\n",
    "If $\\omega < 1$, that is technically an \"under-relaxation\" and it will be slower than Gauss-Seidel.  \n",
    "\n",
    "If $\\omega > 1$, that's the over-relaxation and it should converge faster than Gauss-Seidel.  \n"
   ]
  },
  {
   "cell_type": "code",
   "execution_count": null,
   "id": "e429b1dc",
   "metadata": {},
   "outputs": [],
   "source": [
    "b = 2*x + y\n",
    "print(numpy.shape(b))"
   ]
  },
  {
   "cell_type": "code",
   "execution_count": null,
   "id": "7b28a13b",
   "metadata": {},
   "outputs": [],
   "source": [
    "@jit(nopython=True)\n",
    "def laplace_2d_sor(p0, b, omega, maxiter=20000, rtol=1e-6):\n",
    "    \n",
    "    nx, ny = p0.shape\n",
    "    p = p0.copy()\n",
    "    diff = rtol + 1.0\n",
    "    ite = 0\n",
    "    conv = []\n",
    "    while diff>rtol and ite<maxiter:\n",
    "        pn = p.copy()\n",
    "        for j in range(1, ny-1):\n",
    "            for i in range(1, nx-1):\n",
    "                p[j, i] = (1 - omega)*p[j, i] + (omega/4)*(p[j-1, i] + p[j, i-1]+ p[j+1, i] + p[j, i+1] + b[j, i])\n",
    "        #Applying Neumann bc (zero-gradient) at right boundary\n",
    "        for j in range(1, ny-1):\n",
    "            p[j, -1] = 0.25*(p[j-1, -1] + p[j+1, -1] + 2.0*p[j, -2])\n",
    "                    \n",
    "        # Compute the relative L2-norm of the difference.\n",
    "        diff = numpy.sqrt(numpy.sum((p - pn)**2) / numpy.sum(pn**2))\n",
    "        conv.append(diff)\n",
    "        ite += 1\n",
    "    \n",
    "    return p, ite, conv"
   ]
  },
  {
   "cell_type": "code",
   "execution_count": null,
   "id": "2ef1969f",
   "metadata": {},
   "outputs": [],
   "source": [
    "# Compute the solution using SOR method.\n",
    "omega = 1.0\n",
    "tic = time.time()\n",
    "p, ites, conv_sor = laplace_2d_sor(p0, b, omega, maxiter=20000, rtol=1e-8)\n",
    "toc = time.time()\n",
    "print('SOR (omega={}): {} iterations '.format(omega, ites) +\n",
    "      'to reach a relative difference of {}'.format(conv_sor[-1]))\n",
    "print(toc - tic)"
   ]
  },
  {
   "cell_type": "code",
   "execution_count": null,
   "id": "ab745801",
   "metadata": {
    "scrolled": true
   },
   "outputs": [],
   "source": [
    "# Compute the solution using SOR method.\n",
    "omega = 1.5\n",
    "tic = time.time()\n",
    "p, ites, conv_sor = laplace_2d_sor(p0, x, y, omega,\n",
    "                                   maxiter=20000, rtol=1e-8)\n",
    "toc = time.time()\n",
    "print('SOR (omega={}): {} iterations '.format(omega, ites) +\n",
    "      'to reach a relative difference of {}'.format(conv_sor[-1]))\n",
    "print(toc -tic)"
   ]
  },
  {
   "cell_type": "markdown",
   "id": "60cd06c8",
   "metadata": {},
   "source": [
    "### Tuned SOR\n",
    "\n",
    "For square domains, it turns out that the ideal factor $\\omega$ can be computed as a function of the number of nodes in one direction, e.g., `nx`.\n",
    "\n",
    "$$\n",
    "\\begin{equation}\n",
    "\\omega \\approx \\frac{2}{1+\\frac{\\pi}{nx}}\n",
    "\\end{equation}\n",
    "$$"
   ]
  },
  {
   "cell_type": "code",
   "execution_count": null,
   "id": "2a209107",
   "metadata": {},
   "outputs": [],
   "source": [
    "# Compute the solution using tuned SOR method.\n",
    "omega = 2.0 / (1.0 + numpy.pi / nx)\n",
    "tic = time.time()\n",
    "p, ites, conv_opt_sor = laplace_2d_sor(p0, omega,\n",
    "                                       maxiter=20000, rtol=1e-8)\n",
    "toc = time.time()\n",
    "print('SOR (omega={:.4f}): {} iterations '.format(omega, ites) +\n",
    "      'to reach a relative difference of {}'.format(conv_opt_sor[-1]))\n",
    "print(toc - tic)"
   ]
  },
  {
   "cell_type": "code",
   "execution_count": null,
   "id": "e2ff46e1",
   "metadata": {},
   "outputs": [],
   "source": [
    "l2_norm(p, p_exact)"
   ]
  },
  {
   "cell_type": "code",
   "execution_count": null,
   "id": "82228542",
   "metadata": {},
   "outputs": [],
   "source": [
    "# Plot the convergence history for different methods.\n",
    "pyplot.figure(figsize=(9.0, 4.0))\n",
    "pyplot.xlabel('Iterations')\n",
    "pyplot.ylabel('Relative $L_2$-norm\\nof the difference')\n",
    "pyplot.grid()\n",
    "pyplot.semilogy(conv_jacobi, label='Jacobi')\n",
    "pyplot.semilogy(conv_gs, label='Gauss-Seidel')\n",
    "pyplot.semilogy(conv_sor, label='SOR')\n",
    "pyplot.semilogy(conv_opt_sor, label='Optimized SOR')\n",
    "pyplot.legend()\n",
    "pyplot.xlim(0, 20000);"
   ]
  }
 ],
 "metadata": {
  "kernelspec": {
   "display_name": "Python 3",
   "language": "python",
   "name": "python3"
  },
  "language_info": {
   "codemirror_mode": {
    "name": "ipython",
    "version": 3
   },
   "file_extension": ".py",
   "mimetype": "text/x-python",
   "name": "python",
   "nbconvert_exporter": "python",
   "pygments_lexer": "ipython3",
   "version": "3.8.8"
  }
 },
 "nbformat": 4,
 "nbformat_minor": 5
}
