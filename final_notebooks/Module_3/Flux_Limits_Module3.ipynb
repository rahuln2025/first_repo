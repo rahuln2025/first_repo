{
 "cells": [
  {
   "cell_type": "code",
   "execution_count": 1,
   "id": "192cc455",
   "metadata": {},
   "outputs": [],
   "source": [
    "import numpy\n",
    "import sympy\n",
    "from matplotlib import pyplot\n",
    "sympy.init_printing()"
   ]
  },
  {
   "cell_type": "code",
   "execution_count": 2,
   "id": "a082d593",
   "metadata": {},
   "outputs": [],
   "source": [
    "(u_max, u_star, rho_max, rho_star, A, B) = sympy.symbols('u_max u_star rho_max rho_star A B')"
   ]
  },
  {
   "cell_type": "code",
   "execution_count": 3,
   "id": "84bdf617",
   "metadata": {},
   "outputs": [],
   "source": [
    "eq1 = sympy.Eq(0, u_max*rho_max*(1 - A*rho_max - B*rho_max**2))\n",
    "eq2 = sympy.Eq(0, u_max*(1 - 2*A*rho_star - 3*B*rho_star**2))\n",
    "eq3 = sympy.Eq(u_star, u_max*(1 - A*rho_star - B*rho_star**2))"
   ]
  },
  {
   "cell_type": "code",
   "execution_count": 4,
   "id": "2e52eee9",
   "metadata": {},
   "outputs": [],
   "source": [
    "eq4 = sympy.Eq(eq2.lhs - 3*eq3.lhs, eq2.rhs - 3*eq3.rhs)"
   ]
  },
  {
   "cell_type": "code",
   "execution_count": 5,
   "id": "a36d128a",
   "metadata": {},
   "outputs": [
    {
     "data": {
      "image/png": "[encoded data removed]",
      "text/latex": [
       "$\\displaystyle - 3 u_{star} = u_{max} \\left(- 2 A \\rho_{star} - 3 B \\rho_{star}^{2} + 1\\right) - 3 u_{max} \\left(- A \\rho_{star} - B \\rho_{star}^{2} + 1\\right)$"
      ],
      "text/plain": [
       "                ⎛                      2    ⎞          ⎛                  2   \n",
       "-3⋅uₛₜₐᵣ = uₘₐₓ⋅⎝-2⋅A⋅ρₛₜₐᵣ - 3⋅B⋅ρₛₜₐᵣ  + 1⎠ - 3⋅uₘₐₓ⋅⎝-A⋅ρₛₜₐᵣ - B⋅ρₛₜₐᵣ  + \n",
       "\n",
       " ⎞\n",
       "1⎠"
      ]
     },
     "execution_count": 5,
     "metadata": {},
     "output_type": "execute_result"
    }
   ],
   "source": [
    "eq4"
   ]
  },
  {
   "cell_type": "code",
   "execution_count": 6,
   "id": "f5a9007e",
   "metadata": {},
   "outputs": [
    {
     "data": {
      "image/png": "[encoded data removed]",
      "text/latex": [
       "$\\displaystyle 3 u_{star} = - u_{max} \\left(A \\rho_{star} - 2\\right)$"
      ],
      "text/plain": [
       "3⋅uₛₜₐᵣ = -uₘₐₓ⋅(A⋅ρₛₜₐᵣ - 2)"
      ]
     },
     "execution_count": 6,
     "metadata": {},
     "output_type": "execute_result"
    }
   ],
   "source": [
    "eq4.simplify()"
   ]
  },
  {
   "cell_type": "code",
   "execution_count": 7,
   "id": "d7066bca",
   "metadata": {},
   "outputs": [],
   "source": [
    "rho_sol = sympy.solve(eq4, rho_star)[0]"
   ]
  },
  {
   "cell_type": "code",
   "execution_count": 8,
   "id": "e7633f71",
   "metadata": {},
   "outputs": [
    {
     "data": {
      "image/png": "[encoded data removed]",
      "text/latex": [
       "$\\displaystyle \\frac{2 u_{max} - 3 u_{star}}{A u_{max}}$"
      ],
      "text/plain": [
       "2⋅uₘₐₓ - 3⋅uₛₜₐᵣ\n",
       "────────────────\n",
       "     A⋅uₘₐₓ     "
      ]
     },
     "execution_count": 8,
     "metadata": {},
     "output_type": "execute_result"
    }
   ],
   "source": [
    "rho_sol"
   ]
  },
  {
   "cell_type": "code",
   "execution_count": 9,
   "id": "35fab508",
   "metadata": {},
   "outputs": [],
   "source": [
    "B_sol = sympy.solve(eq1, B)[0]\n",
    "#Don't forget to add [0] even if only one soln"
   ]
  },
  {
   "cell_type": "code",
   "execution_count": 10,
   "id": "02f67923",
   "metadata": {},
   "outputs": [
    {
     "data": {
      "image/png": "[encoded data removed]",
      "text/latex": [
       "$\\displaystyle \\frac{- A \\rho_{max} + 1}{\\rho_{max}^{2}}$"
      ],
      "text/plain": [
       "-A⋅ρₘₐₓ + 1\n",
       "───────────\n",
       "       2   \n",
       "   ρₘₐₓ    "
      ]
     },
     "execution_count": 10,
     "metadata": {},
     "output_type": "execute_result"
    }
   ],
   "source": [
    "B_sol"
   ]
  },
  {
   "cell_type": "code",
   "execution_count": 11,
   "id": "0df54e93",
   "metadata": {},
   "outputs": [],
   "source": [
    "quadA = eq2.subs([(rho_star, rho_sol), (B, B_sol)])"
   ]
  },
  {
   "cell_type": "code",
   "execution_count": 12,
   "id": "46585057",
   "metadata": {},
   "outputs": [
    {
     "data": {
      "image/png": "[encoded data removed]",
      "text/latex": [
       "$\\displaystyle 3 u_{max} - 6 u_{star} - \\frac{3 \\left(2 u_{max} - 3 u_{star}\\right)^{2}}{A \\rho_{max} u_{max}} + \\frac{3 \\left(2 u_{max} - 3 u_{star}\\right)^{2}}{A^{2} \\rho_{max}^{2} u_{max}} = 0$"
      ],
      "text/plain": [
       "                                       2                       2    \n",
       "                   3⋅(2⋅uₘₐₓ - 3⋅uₛₜₐᵣ)    3⋅(2⋅uₘₐₓ - 3⋅uₛₜₐᵣ)     \n",
       "3⋅uₘₐₓ - 6⋅uₛₜₐᵣ - ───────────────────── + ───────────────────── = 0\n",
       "                        A⋅ρₘₐₓ⋅uₘₐₓ             2     2             \n",
       "                                               A ⋅ρₘₐₓ ⋅uₘₐₓ        "
      ]
     },
     "execution_count": 12,
     "metadata": {},
     "output_type": "execute_result"
    }
   ],
   "source": [
    "quadA.simplify()"
   ]
  },
  {
   "cell_type": "code",
   "execution_count": 13,
   "id": "d68eb3a7",
   "metadata": {},
   "outputs": [],
   "source": [
    "A_sol = sympy.solve(quadA, A)"
   ]
  },
  {
   "cell_type": "code",
   "execution_count": 14,
   "id": "66859d35",
   "metadata": {},
   "outputs": [
    {
     "data": {
      "image/png": "[encoded data removed]",
      "text/latex": [
       "$\\displaystyle \\left[ \\frac{\\sqrt{- u_{star} \\left(4 u_{max} - 9 u_{star}\\right)} \\left(- 2 u_{max} + 3 u_{star}\\right) + \\left(2 u_{max} - 3 u_{star}\\right)^{2}}{2 \\rho_{max} u_{max} \\left(u_{max} - 2 u_{star}\\right)}, \\  \\frac{\\left(2 u_{max} - 3 u_{star}\\right) \\left(2 u_{max} - 3 u_{star} + \\sqrt{- u_{star} \\left(4 u_{max} - 9 u_{star}\\right)}\\right)}{2 \\rho_{max} u_{max} \\left(u_{max} - 2 u_{star}\\right)}\\right]$"
      ],
      "text/plain": [
       "⎡  ___________________________                                         2      \n",
       "⎢╲╱ -uₛₜₐᵣ⋅(4⋅uₘₐₓ - 9⋅uₛₜₐᵣ) ⋅(-2⋅uₘₐₓ + 3⋅uₛₜₐᵣ) + (2⋅uₘₐₓ - 3⋅uₛₜₐᵣ)   (2⋅u\n",
       "⎢───────────────────────────────────────────────────────────────────────, ────\n",
       "⎣                      2⋅ρₘₐₓ⋅uₘₐₓ⋅(uₘₐₓ - 2⋅uₛₜₐᵣ)                           \n",
       "\n",
       "               ⎛                     ___________________________⎞⎤\n",
       "ₘₐₓ - 3⋅uₛₜₐᵣ)⋅⎝2⋅uₘₐₓ - 3⋅uₛₜₐᵣ + ╲╱ -uₛₜₐᵣ⋅(4⋅uₘₐₓ - 9⋅uₛₜₐᵣ) ⎠⎥\n",
       "─────────────────────────────────────────────────────────────────⎥\n",
       "                 2⋅ρₘₐₓ⋅uₘₐₓ⋅(uₘₐₓ - 2⋅uₛₜₐᵣ)                    ⎦"
      ]
     },
     "execution_count": 14,
     "metadata": {},
     "output_type": "execute_result"
    }
   ],
   "source": [
    "A_sol"
   ]
  },
  {
   "cell_type": "code",
   "execution_count": 15,
   "id": "e8a7b94f",
   "metadata": {},
   "outputs": [
    {
     "data": {
      "image/png": "[encoded data removed]",
      "text/latex": [
       "$\\displaystyle -0.0281023443605751$"
      ],
      "text/plain": [
       "-0.0281023443605751"
      ]
     },
     "execution_count": 15,
     "metadata": {},
     "output_type": "execute_result"
    }
   ],
   "source": [
    "A_val_0 = A_sol[0].evalf(subs = {u_star: 1.5, u_max: 2.0, rho_max: 15})\n",
    "A_val_0"
   ]
  },
  {
   "cell_type": "code",
   "execution_count": 16,
   "id": "8e21eac7",
   "metadata": {},
   "outputs": [
    {
     "data": {
      "image/png": "[encoded data removed]",
      "text/latex": [
       "$\\displaystyle 0.0197690110272418$"
      ],
      "text/plain": [
       "0.0197690110272418"
      ]
     },
     "execution_count": 16,
     "metadata": {},
     "output_type": "execute_result"
    }
   ],
   "source": [
    "A_val_1 = A_sol[1].evalf(subs = {u_star: 1.5, u_max: 2.0, rho_max: 15.0})\n",
    "A_val_1"
   ]
  },
  {
   "cell_type": "code",
   "execution_count": 17,
   "id": "684b8909",
   "metadata": {},
   "outputs": [
    {
     "data": {
      "image/png": "[encoded data removed]",
      "text/latex": [
       "$\\displaystyle 0.0197690110272418$"
      ],
      "text/plain": [
       "0.0197690110272418"
      ]
     },
     "execution_count": 17,
     "metadata": {},
     "output_type": "execute_result"
    }
   ],
   "source": [
    "A_val = max(A_val_0, A_val_1)\n",
    "A_val"
   ]
  },
  {
   "cell_type": "code",
   "execution_count": 18,
   "id": "f3a07f9f",
   "metadata": {},
   "outputs": [
    {
     "data": {
      "image/png": "[encoded data removed]",
      "text/latex": [
       "$\\displaystyle 0.00312651037596166$"
      ],
      "text/plain": [
       "0.00312651037596166"
      ]
     },
     "execution_count": 18,
     "metadata": {},
     "output_type": "execute_result"
    }
   ],
   "source": [
    "B_val = B_sol.evalf(subs = {A: A_val, rho_max: 15.0})\n",
    "B_val"
   ]
  },
  {
   "cell_type": "code",
   "execution_count": 19,
   "id": "8e930b65",
   "metadata": {},
   "outputs": [],
   "source": [
    "F, rho_th_max = sympy.symbols('F rho_max^th')"
   ]
  },
  {
   "cell_type": "code",
   "execution_count": 20,
   "id": "5eb55f23",
   "metadata": {},
   "outputs": [],
   "source": [
    "flux = u_max*(rho_th_max - A*rho_th_max**2 - B*rho_th_max**3)"
   ]
  },
  {
   "cell_type": "code",
   "execution_count": 21,
   "id": "5bb905ff",
   "metadata": {},
   "outputs": [
    {
     "data": {
      "image/png": "[encoded data removed]",
      "text/latex": [
       "$\\displaystyle u_{max} \\left(- 2 A \\rho^{th}_{max} - 3 B \\left(\\rho^{th}_{max}\\right)^{2} + 1\\right)$"
      ],
      "text/plain": [
       "     ⎛                              2    ⎞\n",
       "uₘₐₓ⋅⎝-2⋅A⋅ρ_max__th - 3⋅B⋅ρ_max__th  + 1⎠"
      ]
     },
     "execution_count": 21,
     "metadata": {},
     "output_type": "execute_result"
    }
   ],
   "source": [
    "flux_prime = sympy.diff(flux, rho_th_max)\n",
    "flux_prime"
   ]
  },
  {
   "cell_type": "code",
   "execution_count": 22,
   "id": "2f05aae1",
   "metadata": {},
   "outputs": [
    {
     "data": {
      "image/png": "[encoded data removed]",
      "text/latex": [
       "$\\displaystyle - 0.01875906225577 \\left(\\rho^{th}_{max}\\right)^{2} - 0.0790760441089671 \\rho^{th}_{max} + 2.0$"
      ],
      "text/plain": [
       "                            2                                     \n",
       "- 0.01875906225577⋅ρ_max__th  - 0.0790760441089671⋅ρ_max__th + 2.0"
      ]
     },
     "execution_count": 22,
     "metadata": {},
     "output_type": "execute_result"
    }
   ],
   "source": [
    "u_max_val = 2.0\n",
    "wave_speed = flux_prime.subs([(A, A_val), (B, B_val), (u_max, u_max_val)])\n",
    "wave_speed"
   ]
  },
  {
   "cell_type": "code",
   "execution_count": 23,
   "id": "d444a7e4",
   "metadata": {},
   "outputs": [
    {
     "name": "stdout",
     "output_type": "stream",
     "text": [
      "[-12.6460549622588, 8.43070330817253]\n"
     ]
    }
   ],
   "source": [
    "eq5 = sympy.Eq(0, wave_speed)\n",
    "eq5\n",
    "\n",
    "rho_th_max_val = sympy.solve(eq5, rho_th_max)\n",
    "print(rho_th_max_val)"
   ]
  },
  {
   "cell_type": "markdown",
   "id": "d488bf1b",
   "metadata": {},
   "source": [
    "The positive root is the answer of the max th. density. "
   ]
  }
 ],
 "metadata": {
  "kernelspec": {
   "display_name": "Python 3",
   "language": "python",
   "name": "python3"
  },
  "language_info": {
   "codemirror_mode": {
    "name": "ipython",
    "version": 3
   },
   "file_extension": ".py",
   "mimetype": "text/x-python",
   "name": "python",
   "nbconvert_exporter": "python",
   "pygments_lexer": "ipython3",
   "version": "3.8.8"
  }
 },
 "nbformat": 4,
 "nbformat_minor": 5
}
